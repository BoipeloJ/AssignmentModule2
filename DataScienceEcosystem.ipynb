{
 "cells": [
  {
   "cell_type": "code",
   "execution_count": null,
   "id": "74b995be-8120-4b9c-a6fd-cc78d562c248",
   "metadata": {},
   "outputs": [],
   "source": [
    "# H1: Data Science Tools and Ecosystem"
   ]
  },
  {
   "cell_type": "code",
   "execution_count": null,
   "id": "4e9ee362-6fe0-4246-bd1a-4d4f2a2255c0",
   "metadata": {},
   "outputs": [],
   "source": [
    "In this notebook, Data Science Tools and Ecosystem are summarized."
   ]
  },
  {
   "cell_type": "code",
   "execution_count": null,
   "id": "bc586f6b-8972-440e-b3fa-b4ef75d30010",
   "metadata": {},
   "outputs": [],
   "source": [
    "Some of the popular languages that Data Science use are:\n"
   ]
  },
  {
   "cell_type": "markdown",
   "id": "a04dfb6f-09b2-40d6-b876-77da81b05eb0",
   "metadata": {},
   "source": [
    "**Objectives**\n",
    "- Commoly used libraries used by Data Scientists\n",
    "- List popular languages for Data Science\n",
    "- List Data Science tools\n",
    "- Arithmetic expressions in Python"
   ]
  },
  {
   "cell_type": "code",
   "execution_count": null,
   "id": "c09d88e8-84a2-49f2-bec6-08c43c82e2b5",
   "metadata": {},
   "outputs": [],
   "source": [
    "1. Python\n",
    "2. R\n",
    "3. Julia"
   ]
  },
  {
   "cell_type": "code",
   "execution_count": null,
   "id": "07a03765-3fa3-4d44-8a1d-972429cd337d",
   "metadata": {},
   "outputs": [],
   "source": [
    "Some of the commonly used libraries used by Data Scientists include:\n"
   ]
  },
  {
   "cell_type": "markdown",
   "id": "e3ce20d2-3b28-43c1-8aa5-cb3a89c42e3b",
   "metadata": {},
   "source": [
    "    1. Numpy\n",
    "    2. Matplotlib\n",
    "    3. Pandas"
   ]
  },
  {
   "cell_type": "markdown",
   "id": "7dbca7ba-a29c-4b2b-9d8c-afb598b92b16",
   "metadata": {},
   "source": [
    "| Data Science Tools |\n",
    "|----------------------|\n",
    "| Jupyter Notebooks    |\n",
    "| RStudio              |\n",
    "| GitHub               |\n"
   ]
  },
  {
   "cell_type": "code",
   "execution_count": null,
   "id": "b714e0f0-c910-4f9c-b17f-ca235ec1fb2a",
   "metadata": {},
   "outputs": [],
   "source": [
    "### H3: Below area few examples of evaluating arithmetic expressions in Python"
   ]
  },
  {
   "cell_type": "code",
   "execution_count": null,
   "id": "833acc78-1864-486f-b5b0-25c0e2587cf7",
   "metadata": {
    "tags": []
   },
   "outputs": [],
   "source": [
    "# This is a simple arithmetic expression to multiply then add intergers \n",
    "(3*4)+5"
   ]
  },
  {
   "cell_type": "markdown",
   "id": "88d778f4-ea3f-4cb1-a1ad-3d1da987360c",
   "metadata": {
    "tags": []
   },
   "source": [
    "# This will convert 200 minutes to hours by dividing by 60\n",
    "200/60\n"
   ]
  },
  {
   "cell_type": "markdown",
   "id": "ef2a409e-cb9f-4270-8a39-5b70d6d1db5b",
   "metadata": {},
   "source": [
    "## H2: Author\n",
    "Boipelo"
   ]
  },
  {
   "cell_type": "code",
   "execution_count": null,
   "id": "fc293c2a-d0f2-4d9b-a51c-f873018281bf",
   "metadata": {},
   "outputs": [],
   "source": []
  }
 ],
 "metadata": {
  "kernelspec": {
   "display_name": "Python",
   "language": "python",
   "name": "conda-env-python-py"
  },
  "language_info": {
   "codemirror_mode": {
    "name": "ipython",
    "version": 3
   },
   "file_extension": ".py",
   "mimetype": "text/x-python",
   "name": "python",
   "nbconvert_exporter": "python",
   "pygments_lexer": "ipython3",
   "version": "3.7.12"
  }
 },
 "nbformat": 4,
 "nbformat_minor": 5
}
